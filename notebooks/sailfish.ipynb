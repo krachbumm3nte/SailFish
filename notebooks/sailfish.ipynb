{
 "cells": [
  {
   "cell_type": "code",
   "execution_count": 2,
   "metadata": {
    "pycharm": {
     "is_executing": false
    }
   },
   "outputs": [],
   "source": [
    "import h5py\n",
    "import numpy as np\n",
    "import matplotlib.pyplot as plt\n",
    "import matplotlib.image as mpimg\n",
    "from PIL import Image, ImageFont, ImageDraw\n",
    "import subprocess\n",
    "from pathlib import Path\n",
    "\n",
    "imgdir = '/home/johannes/Desktop/billfish/plots/'\n",
    "tempdir = imgdir + 'temp/'\n"
   ]
  },
  {
   "cell_type": "code",
   "execution_count": null,
   "metadata": {},
   "outputs": [],
   "source": [
    "plt.hist(ct_scan.CtScan().data.ravel(), bins=255, range=(1,255))\n",
    "# Get current size\n",
    "fig_size = plt.rcParams[\"figure.figsize\"]\n",
    " \n",
    "# Set figure width to 12 and height to 9\n",
    "fig_size[0] = 12\n",
    "fig_size[1] = 9\n",
    "plt.rcParams[\"figure.figsize\"] = fig_size\n",
    "plt.show()"
   ]
  },
  {
   "cell_type": "code",
   "execution_count": null,
   "metadata": {},
   "outputs": [],
   "source": [
    "wh= 3\n",
    "num_plots= wh**2\n",
    "func = np.vectorize(lambda e: e) # 0 if e<60 else e)\n",
    "# row and column sharing\n",
    "f, axes = plt.subplots(wh, wh, sharex='col', sharey='row')\n",
    "f.dpi = 300\n",
    "f.figsize = 15,15\n",
    "\n",
    "for i in range(num_plots):\n",
    "    xpos, ypos = int(i/wh), i%wh\n",
    "    axes[xpos,ypos].imshow(func(scan.data[i*20]))\n",
    "\n",
    "    \n",
    "    \n",
    "plt.show()"
   ]
  },
  {
   "cell_type": "code",
   "execution_count": 3,
   "metadata": {
    "pycharm": {
     "is_executing": false,
     "name": "#%%\n"
    }
   },
   "outputs": [],
   "source": [
    "def save_selection_to_gif(gif_name, start=0, end=10, gif_delay=20, interval=1):\n",
    "    print(f'constructing gif: {gif_name}.gif')\n",
    "    with h5py.File('/home/johannes/Desktop/billfish/SFA3.original.4v0.hdf5', 'r') as file:\n",
    "        array = file['original'][start:end][::-1, ::]\n",
    "\n",
    "    font = ImageFont.truetype(font='usr/share/fonts/TTF/LiberationMono-Bold.ttf', size=35)\n",
    "    \n",
    "    print('generating subimages...')\n",
    "    for i in range(0, end-start, interval):\n",
    "        img = Image.fromarray(array[i])\n",
    "        draw = ImageDraw.Draw(img)\n",
    "        draw.text((0,0), str(start+i), 255, font=font)\n",
    "        img.save(f\"{tempdir}{start + i}.png\")\n",
    "\n",
    "    print(\"collecting images to gif...\")\n",
    "    bashCommand = f\"convert -delay {gif_delay} {tempdir}*.png {imgdir}{gif_name}.gif\"\n",
    "    process = subprocess.Popen(bashCommand.split(), stdout=subprocess.PIPE)\n",
    "    output, error = process.communicate()\n",
    "    print(output, error)\n",
    "\n",
    "    #delete obsolete images\n",
    "    print(\"deleting obsolete images...\")\n",
    "    for p in Path(tempdir).glob(\"*.png\"):\n",
    "        p.unlink()\n",
    "    print('done.')"
   ]
  },
  {
   "cell_type": "code",
   "execution_count": 4,
   "metadata": {
    "collapsed": false,
    "jupyter": {
     "outputs_hidden": false
    },
    "pycharm": {
     "is_executing": true,
     "name": "#%%\n"
    }
   },
   "outputs": [
    {
     "name": "stdout",
     "output_type": "stream",
     "text": [
      "constructing gif: channel_C_exit.gif\n",
      "generating subimages...\n",
      "collecting images to gif...\n",
      "b'' None\n",
      "deleting obsolete images...\n",
      "done.\n"
     ]
    }
   ],
   "source": [
    "save_selection_to_gif('channel_C_exit', 2735, 2924, 20, 2)\n"
   ]
  }
 ],
 "metadata": {
  "kernelspec": {
   "display_name": "Python 3",
   "language": "python",
   "name": "python3"
  },
  "language_info": {
   "codemirror_mode": {
    "name": "ipython",
    "version": 3
   },
   "file_extension": ".py",
   "mimetype": "text/x-python",
   "name": "python",
   "nbconvert_exporter": "python",
   "pygments_lexer": "ipython3",
   "version": "3.7.3"
  },
  "pycharm": {
   "stem_cell": {
    "cell_type": "raw",
    "metadata": {
     "collapsed": false
    },
    "source": []
   }
  }
 },
 "nbformat": 4,
 "nbformat_minor": 4
}
